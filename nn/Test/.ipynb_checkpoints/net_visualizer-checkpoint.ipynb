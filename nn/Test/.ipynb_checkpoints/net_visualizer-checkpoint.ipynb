{
 "cells": [
  {
   "cell_type": "code",
   "execution_count": 1,
   "metadata": {
    "collapsed": true
   },
   "outputs": [],
   "source": [
    "%matplotlib inline\n",
    "import pdb"
   ]
  },
  {
   "cell_type": "code",
   "execution_count": 2,
   "metadata": {
    "collapsed": true
   },
   "outputs": [],
   "source": [
    "#!/usr/bin/env python3\n",
    "# -*- coding: utf-8 -*-\n",
    "\"\"\"\n",
    "Created on Wed Nov 22 23:37:03 2017\n",
    "\n",
    "@author: mjb\n",
    "\"\"\"\n",
    "import sys\n",
    "sys.path.append('../../')\n",
    "\n",
    "import torch\n",
    "import numpy as np\n",
    "import Settings.arguments as arguments\n",
    "import Settings.game_settings as game_settings\n",
    "import Settings.constants as constants\n",
    "# from Player.six_player_machine import SixPlayerMachine\n",
    "# from ACPC.six_acpc_game import SixACPCGame\n",
    "from Tree.game_state import GameState\n",
    "from Tree.game_state import Action\n",
    "from nn.sim_env import SimEnv\n",
    "\n",
    "from nn.dqn import *\n",
    "from nn.table_sl import TableSL\n",
    "from nn.net_sl import SLOptim\n",
    "from nn.maddpg import MADDPG\n",
    "\n",
    "import seaborn as sns\n",
    "from sklearn import manifold\n",
    "import pandas as pd"
   ]
  },
  {
   "cell_type": "code",
   "execution_count": 3,
   "metadata": {},
   "outputs": [],
   "source": [
    "# iter_num = [10000,20000,30000]\n",
    "iter_num = [100000,110000,120000]\n",
    "def load_model(episoid):\n",
    "    net_sl = SLOptim()\n",
    "    net_rl = DQNOptim()\n",
    "    maddpg = MADDPG()\n",
    "    \n",
    "#     net_sl.model.load_state_dict(torch.load( \\\n",
    "#                                 arguments.WORK_PATH+'/Data/Model/Iter:' + str(episoid) + '_' + str(0) +'_' + '.sl'))\n",
    "#     net_sl.model.eval()\n",
    "#     net_rl.model.load_state_dict(torch.load( \\\n",
    "#                                 arguments.WORK_PATH+'/Data/Model/Iter:' + str(episoid) + '_' + str(0) +'_' + '.rl'))\n",
    "#     net_rl.model.eval()\n",
    "    \n",
    "    for i in range(game_settings.player_count):\n",
    "        maddpg.actors[i].load_state_dict(torch.load( \\\n",
    "            arguments.WORK_PATH+'/Data/Model/Iter:' + str(episoid) + '_' + str(i) +'.actor'))\n",
    "        maddpg.actors[i].load_state_dict(torch.load( \\\n",
    "            arguments.WORK_PATH+'/Data/Model/Iter:' + str(episoid) + '_' + str(i) +'.actor'))\n",
    "    return net_sl, net_rl, maddpg\n",
    "\n",
    "state = GameState()\n",
    "call = Action(atype=constants.actions.ccall,amount=0)\n",
    "rrasie = Action(atype=constants.actions.rraise,amount=1000)\n",
    "fold = Action(atype=constants.actions.fold,amount=0)\n",
    "\n",
    "env = SimEnv()\n",
    "\n",
    "\n",
    "def make_data(size=10000):\n",
    "    cat = []\n",
    "    data = []\n",
    "\n",
    "    for _ in range(size):\n",
    "        state = GameState()\n",
    "        state.street = np.random.randint(2)\n",
    "        state.current_player = np.random.randint(3)\n",
    "        state.terminal = True\n",
    "\n",
    "        state.hole = torch.LongTensor(3, 1).fill_(0)\n",
    "        state.hole[state.current_player][0] = np.random.randint(10)\n",
    "        # board = torch.LongTensor([6,30,31,38,43])\n",
    "        state.board = torch.LongTensor([6])\n",
    "        state.bets = arguments.LongTensor(np.random.randint(arguments.stack, size=3))\n",
    "        state.do_action(call)\n",
    "        state.do_action(rrasie)\n",
    "        state.do_action(call)\n",
    "        state.do_action(fold)\n",
    "\n",
    "        state_tensor = env.state2tensor(state)\n",
    "\n",
    "        cat.append((state.hole[state.current_player].item(), state.street))\n",
    "        data.append(state_tensor)\n",
    "\n",
    "    return cat, data\n",
    "\n",
    "def tsne(forward_data):\n",
    "    tsne = manifold.TSNE(n_components=2, init='pca',\n",
    "                             random_state=0, perplexity=50)\n",
    "    fc1_x = tsne.fit_transform(forward_data)\n",
    "    return fc1_x\n",
    "\n",
    "def plot(fc1_x, target):\n",
    "    df_data = np.append(fc1_x, np.array(target).reshape((-1,1)) ,axis=1)\n",
    "    df = pd.DataFrame(columns=['x','y','tar'],data=df_data)\n",
    "    df['tar'] = (df['tar'] / 4).astype(int)\n",
    "    sns.lmplot(x='x', y='y', data=df,\n",
    "               fit_reg=False, # No regression line\n",
    "               hue='tar',\n",
    "               scatter_kws={\"s\": 5})   # Color by evolution stage\n",
    "    return df\n",
    "cat, data = make_data(5000)\n",
    "hole_tar, street_tar = list(zip(*cat))"
   ]
  },
  {
   "cell_type": "markdown",
   "metadata": {},
   "source": [
    "读取模型参数，并利用上一个cell生成的数据画tsne图"
   ]
  },
  {
   "cell_type": "code",
   "execution_count": 4,
   "metadata": {},
   "outputs": [],
   "source": [
    "all_data = []\n",
    "for it in iter_num:\n",
    "    net_sl, net_rl, maddpg = load_model(it)\n",
    "    net_sl = SLOptim()\n",
    "    net_sl.model.eval()\n",
    "    net_rl = DQNOptim()\n",
    "    net_rl.model.eval()\n",
    "    #print(state.bets)\n",
    "\n",
    "    forward_data = []\n",
    "\n",
    "    for state_tensor in data:\n",
    "#         forward_data.append(net_sl.model.forward_fc(Variable(state_tensor)).data)\n",
    "        forward_data.append(maddpg.actors[1].forward_fc(Variable(state_tensor)).data)\n",
    "\n",
    "    forward_data = np.vstack(forward_data)\n",
    "    all_data.append(forward_data)"
   ]
  },
  {
   "cell_type": "code",
   "execution_count": 5,
   "metadata": {},
   "outputs": [
    {
     "ename": "ValueError",
     "evalue": "only one element tensors can be converted to Python scalars",
     "output_type": "error",
     "traceback": [
      "\u001b[0;31m---------------------------------------------------------------------------\u001b[0m",
      "\u001b[0;31mValueError\u001b[0m                                Traceback (most recent call last)",
      "\u001b[0;32m<ipython-input-5-8710b876f189>\u001b[0m in \u001b[0;36m<module>\u001b[0;34m()\u001b[0m\n\u001b[1;32m      1\u001b[0m \u001b[0mdf_data\u001b[0m \u001b[0;34m=\u001b[0m \u001b[0;34m[\u001b[0m\u001b[0;34m]\u001b[0m\u001b[0;34m\u001b[0m\u001b[0m\n\u001b[1;32m      2\u001b[0m \u001b[0;32mfor\u001b[0m \u001b[0mplot_data\u001b[0m \u001b[0;32min\u001b[0m \u001b[0mall_data\u001b[0m\u001b[0;34m:\u001b[0m\u001b[0;34m\u001b[0m\u001b[0m\n\u001b[0;32m----> 3\u001b[0;31m     \u001b[0mfc1_x\u001b[0m \u001b[0;34m=\u001b[0m \u001b[0mtsne\u001b[0m\u001b[0;34m(\u001b[0m\u001b[0mdata\u001b[0m\u001b[0;34m)\u001b[0m\u001b[0;34m\u001b[0m\u001b[0m\n\u001b[0m\u001b[1;32m      4\u001b[0m     \u001b[0mdf_data\u001b[0m\u001b[0;34m.\u001b[0m\u001b[0mappend\u001b[0m\u001b[0;34m(\u001b[0m\u001b[0mplot\u001b[0m\u001b[0;34m(\u001b[0m\u001b[0mfc1_x\u001b[0m\u001b[0;34m,\u001b[0m \u001b[0mhole_tar\u001b[0m\u001b[0;34m)\u001b[0m\u001b[0;34m)\u001b[0m\u001b[0;34m\u001b[0m\u001b[0m\n",
      "\u001b[0;32m<ipython-input-3-08ce4a606c24>\u001b[0m in \u001b[0;36mtsne\u001b[0;34m(forward_data)\u001b[0m\n\u001b[1;32m     56\u001b[0m     tsne = manifold.TSNE(n_components=2, init='pca',\n\u001b[1;32m     57\u001b[0m                              random_state=0, perplexity=50)\n\u001b[0;32m---> 58\u001b[0;31m     \u001b[0mfc1_x\u001b[0m \u001b[0;34m=\u001b[0m \u001b[0mtsne\u001b[0m\u001b[0;34m.\u001b[0m\u001b[0mfit_transform\u001b[0m\u001b[0;34m(\u001b[0m\u001b[0mforward_data\u001b[0m\u001b[0;34m)\u001b[0m\u001b[0;34m\u001b[0m\u001b[0m\n\u001b[0m\u001b[1;32m     59\u001b[0m     \u001b[0;32mreturn\u001b[0m \u001b[0mfc1_x\u001b[0m\u001b[0;34m\u001b[0m\u001b[0m\n\u001b[1;32m     60\u001b[0m \u001b[0;34m\u001b[0m\u001b[0m\n",
      "\u001b[0;32m~/anaconda3/envs/pytorch/lib/python3.6/site-packages/sklearn/manifold/t_sne.py\u001b[0m in \u001b[0;36mfit_transform\u001b[0;34m(self, X, y)\u001b[0m\n\u001b[1;32m    856\u001b[0m             \u001b[0mEmbedding\u001b[0m \u001b[0mof\u001b[0m \u001b[0mthe\u001b[0m \u001b[0mtraining\u001b[0m \u001b[0mdata\u001b[0m \u001b[0;32min\u001b[0m \u001b[0mlow\u001b[0m\u001b[0;34m-\u001b[0m\u001b[0mdimensional\u001b[0m \u001b[0mspace\u001b[0m\u001b[0;34m.\u001b[0m\u001b[0;34m\u001b[0m\u001b[0m\n\u001b[1;32m    857\u001b[0m         \"\"\"\n\u001b[0;32m--> 858\u001b[0;31m         \u001b[0membedding\u001b[0m \u001b[0;34m=\u001b[0m \u001b[0mself\u001b[0m\u001b[0;34m.\u001b[0m\u001b[0m_fit\u001b[0m\u001b[0;34m(\u001b[0m\u001b[0mX\u001b[0m\u001b[0;34m)\u001b[0m\u001b[0;34m\u001b[0m\u001b[0m\n\u001b[0m\u001b[1;32m    859\u001b[0m         \u001b[0mself\u001b[0m\u001b[0;34m.\u001b[0m\u001b[0membedding_\u001b[0m \u001b[0;34m=\u001b[0m \u001b[0membedding\u001b[0m\u001b[0;34m\u001b[0m\u001b[0m\n\u001b[1;32m    860\u001b[0m         \u001b[0;32mreturn\u001b[0m \u001b[0mself\u001b[0m\u001b[0;34m.\u001b[0m\u001b[0membedding_\u001b[0m\u001b[0;34m\u001b[0m\u001b[0m\n",
      "\u001b[0;32m~/anaconda3/envs/pytorch/lib/python3.6/site-packages/sklearn/manifold/t_sne.py\u001b[0m in \u001b[0;36m_fit\u001b[0;34m(self, X, skip_num_points)\u001b[0m\n\u001b[1;32m    658\u001b[0m         \u001b[0;32melse\u001b[0m\u001b[0;34m:\u001b[0m\u001b[0;34m\u001b[0m\u001b[0m\n\u001b[1;32m    659\u001b[0m             X = check_array(X, accept_sparse=['csr', 'csc', 'coo'],\n\u001b[0;32m--> 660\u001b[0;31m                             dtype=[np.float32, np.float64])\n\u001b[0m\u001b[1;32m    661\u001b[0m         \u001b[0;32mif\u001b[0m \u001b[0mself\u001b[0m\u001b[0;34m.\u001b[0m\u001b[0mmethod\u001b[0m \u001b[0;34m==\u001b[0m \u001b[0;34m'barnes_hut'\u001b[0m \u001b[0;32mand\u001b[0m \u001b[0mself\u001b[0m\u001b[0;34m.\u001b[0m\u001b[0mn_components\u001b[0m \u001b[0;34m>\u001b[0m \u001b[0;36m3\u001b[0m\u001b[0;34m:\u001b[0m\u001b[0;34m\u001b[0m\u001b[0m\n\u001b[1;32m    662\u001b[0m             raise ValueError(\"'n_components' should be inferior to 4 for the \"\n",
      "\u001b[0;32m~/anaconda3/envs/pytorch/lib/python3.6/site-packages/sklearn/utils/validation.py\u001b[0m in \u001b[0;36mcheck_array\u001b[0;34m(array, accept_sparse, dtype, order, copy, force_all_finite, ensure_2d, allow_nd, ensure_min_samples, ensure_min_features, warn_on_dtype, estimator)\u001b[0m\n\u001b[1;32m    431\u001b[0m                                       force_all_finite)\n\u001b[1;32m    432\u001b[0m     \u001b[0;32melse\u001b[0m\u001b[0;34m:\u001b[0m\u001b[0;34m\u001b[0m\u001b[0m\n\u001b[0;32m--> 433\u001b[0;31m         \u001b[0marray\u001b[0m \u001b[0;34m=\u001b[0m \u001b[0mnp\u001b[0m\u001b[0;34m.\u001b[0m\u001b[0marray\u001b[0m\u001b[0;34m(\u001b[0m\u001b[0marray\u001b[0m\u001b[0;34m,\u001b[0m \u001b[0mdtype\u001b[0m\u001b[0;34m=\u001b[0m\u001b[0mdtype\u001b[0m\u001b[0;34m,\u001b[0m \u001b[0morder\u001b[0m\u001b[0;34m=\u001b[0m\u001b[0morder\u001b[0m\u001b[0;34m,\u001b[0m \u001b[0mcopy\u001b[0m\u001b[0;34m=\u001b[0m\u001b[0mcopy\u001b[0m\u001b[0;34m)\u001b[0m\u001b[0;34m\u001b[0m\u001b[0m\n\u001b[0m\u001b[1;32m    434\u001b[0m \u001b[0;34m\u001b[0m\u001b[0m\n\u001b[1;32m    435\u001b[0m         \u001b[0;32mif\u001b[0m \u001b[0mensure_2d\u001b[0m\u001b[0;34m:\u001b[0m\u001b[0;34m\u001b[0m\u001b[0m\n",
      "\u001b[0;31mValueError\u001b[0m: only one element tensors can be converted to Python scalars"
     ]
    }
   ],
   "source": [
    "df_data = []\n",
    "for plot_data in all_data:\n",
    "    fc1_x = tsne(plot_data)\n",
    "    df_data.append(plot(fc1_x, hole_tar))"
   ]
  },
  {
   "cell_type": "code",
   "execution_count": null,
   "metadata": {
    "scrolled": true
   },
   "outputs": [],
   "source": [
    "df = plot(fc1_x, hole_tar)\n",
    "df.head(50)"
   ]
  },
  {
   "cell_type": "markdown",
   "metadata": {},
   "source": [
    "测试网络 dead relu的个数"
   ]
  },
  {
   "cell_type": "code",
   "execution_count": null,
   "metadata": {},
   "outputs": [],
   "source": [
    "for it in iter_num:\n",
    "    net_sl, net_rl, maddpg = load_model(it)\n",
    "    for p in range(game_settings.player_count):\n",
    "        current_params = parameters_to_vector(maddpg.actors[p].parameters())\n",
    "        current_params = parameters_to_vector(maddpg.critics[p].parameters())\n",
    "        dead_num = np.count_nonzero(np.less(current_params.data.cpu().numpy(), 0))\n",
    "        print('total: %d dead: %d' % (current_params.shape[0], dead_num))"
   ]
  },
  {
   "cell_type": "code",
   "execution_count": null,
   "metadata": {
    "scrolled": true
   },
   "outputs": [],
   "source": [
    "for state_tensor in data:\n",
    "    print(maddpg.actors[2](Variable(state_tensor)).data)"
   ]
  }
 ],
 "metadata": {
  "kernelspec": {
   "display_name": "Python 3",
   "language": "python",
   "name": "python3"
  },
  "language_info": {
   "codemirror_mode": {
    "name": "ipython",
    "version": 3
   },
   "file_extension": ".py",
   "mimetype": "text/x-python",
   "name": "python",
   "nbconvert_exporter": "python",
   "pygments_lexer": "ipython3",
   "version": "3.6.2"
  }
 },
 "nbformat": 4,
 "nbformat_minor": 2
}
