{
 "cells": [
  {
   "cell_type": "code",
   "execution_count": 30,
   "metadata": {},
   "outputs": [],
   "source": [
    "#!/usr/bin/env python3\n",
    "# -*- coding: utf-8 -*-\n",
    "\"\"\"\n",
    "Created on Sun Nov 26 05:16:45 2017\n",
    "\n",
    "@author: mjb\n",
    "\"\"\"\n",
    "\n",
    "import sys\n",
    "sys.path.append('../../')\n",
    "\n",
    "import torch\n",
    "import numpy as np\n",
    "from torch.autograd import Variable\n",
    "from torch.nn.utils.convert_parameters import vector_to_parameters, parameters_to_vector\n",
    "\n",
    "%matplotlib inline\n",
    "import seaborn as sns\n",
    "import pandas as pd\n",
    "\n",
    "import Settings.arguments as arguments\n",
    "import Settings.game_settings as game_settings\n",
    "import Settings.constants as constants\n",
    "from Player.six_player_machine import SixPlayerMachine\n",
    "from ACPC.six_acpc_game import SixACPCGame\n",
    "from Tree.game_state import GameState\n",
    "from Tree.game_state import Action\n",
    "from nn.sim_env import SimEnv\n",
    "\n",
    "from nn.maddpg import MADDPG\n",
    "\n",
    "iter_str = str(20000)\n",
    "\n",
    "path = \"/home/carc/mjb/deepStack/Data/Model/Iter:\" + str(iter_str)\n",
    "\n",
    "\n",
    "state = GameState()\n",
    "call = Action(atype=constants.actions.ccall,amount=0)\n",
    "rrasie = Action(atype=constants.actions.rraise,amount=1000)\n",
    "fold = Action(atype=constants.actions.fold,amount=0)\n",
    "    \n",
    "state.do_action(call)\n",
    "state.do_action(rrasie)\n",
    "state.do_action(call)\n",
    "state.do_action(fold)\n",
    "#state.do_action(fold)\n",
    "#state.do_action(call)\n",
    "for i in range(21):\n",
    "    state.do_action(rrasie)\n",
    "# print(state.bets)\n",
    "\n",
    "env = SimEnv()\n",
    "\n",
    "state_tensor = env.state2tensor(state)"
   ]
  },
  {
   "cell_type": "code",
   "execution_count": 32,
   "metadata": {},
   "outputs": [
    {
     "name": "stdout",
     "output_type": "stream",
     "text": [
      "\n",
      "\n",
      "Columns 0 to 5 \n",
      "-1.1155e+02 -1.1155e+02 -9.7338e+00 -1.1155e+02 -1.1155e+02 -6.1035e-05\n",
      "\n",
      "Columns 6 to 6 \n",
      "-1.1155e+02\n",
      "[torch.cuda.FloatTensor of size (1,7) (GPU 0)]\n",
      "\n"
     ]
    },
    {
     "data": {
      "text/plain": [
       "\n",
       " 0\n",
       "[torch.cuda.LongTensor of size (1,1) (GPU 0)]"
      ]
     },
     "execution_count": 32,
     "metadata": {},
     "output_type": "execute_result"
    }
   ],
   "source": [
    "maddpg = MADDPG()\n",
    "maddpg.load(path)\n",
    "\n",
    "print(maddpg.actors[2](Variable(state_tensor)).data)\n",
    "act, _ = maddpg.select_action(0,state_batch=state_tensor)\n",
    "act"
   ]
  },
  {
   "cell_type": "code",
   "execution_count": null,
   "metadata": {
    "collapsed": true
   },
   "outputs": [],
   "source": []
  }
 ],
 "metadata": {
  "kernelspec": {
   "display_name": "Python 3",
   "language": "python",
   "name": "python3"
  },
  "language_info": {
   "codemirror_mode": {
    "name": "ipython",
    "version": 3
   },
   "file_extension": ".py",
   "mimetype": "text/x-python",
   "name": "python",
   "nbconvert_exporter": "python",
   "pygments_lexer": "ipython3",
   "version": "3.6.2"
  }
 },
 "nbformat": 4,
 "nbformat_minor": 2
}
